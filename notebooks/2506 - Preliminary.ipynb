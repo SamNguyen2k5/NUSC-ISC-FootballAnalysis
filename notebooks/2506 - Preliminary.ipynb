{
 "cells": [
  {
   "cell_type": "code",
   "execution_count": 1,
   "id": "37f09838",
   "metadata": {},
   "outputs": [
    {
     "name": "stderr",
     "output_type": "stream",
     "text": [
      "/Users/sam/miniconda3/envs/ISC-Football/lib/python3.12/site-packages/tqdm/auto.py:21: TqdmWarning: IProgress not found. Please update jupyter and ipywidgets. See https://ipywidgets.readthedocs.io/en/stable/user_install.html\n",
      "  from .autonotebook import tqdm as notebook_tqdm\n"
     ]
    }
   ],
   "source": [
    "from tqdm import tqdm\n",
    "\n",
    "import torch\n",
    "import SoccerNet\n",
    "from SoccerNet.Downloader import SoccerNetDownloader"
   ]
  },
  {
   "cell_type": "code",
   "execution_count": 4,
   "id": "a2456fe3",
   "metadata": {},
   "outputs": [
    {
     "name": "stdout",
     "output_type": "stream",
     "text": [
      "Torch CUDA availability: False\n",
      "Torch MPS availability: True\n"
     ]
    }
   ],
   "source": [
    "print(f'Torch CUDA availability: {torch.cuda.is_available()}')\n",
    "print(f'Torch MPS availability: {torch.mps.is_available()}')\n",
    "\n",
    "if torch.cuda.is_available():\n",
    "    torch.device('cuda')\n",
    "elif torch.mps.is_available():\n",
    "    torch.device('mps')\n",
    "\n",
    "soccernet_downloader = SoccerNetDownloader(LocalDirectory=\"../data/raw\")"
   ]
  },
  {
   "cell_type": "code",
   "execution_count": 25,
   "id": "9099ea0c",
   "metadata": {},
   "outputs": [
    {
     "name": "stdout",
     "output_type": "stream",
     "text": [
      "../data/raw/england_epl/2014-2015/2015-02-21 - 18-00 Chelsea 1 - 1 Burnley/Frames-v3.zip already exists\n"
     ]
    },
    {
     "name": "stderr",
     "output_type": "stream",
     "text": [
      "Downloading ../data/raw/england_epl/2014-2015/2015-02-21 - 18-00 Chelsea 1 - 1 Burnley/Labels-v3.json...: : 582kiB [00:06, 92.1kiB/s]                         \n"
     ]
    },
    {
     "name": "stdout",
     "output_type": "stream",
     "text": [
      "../data/raw/england_epl/2014-2015/2015-02-21 - 18-00 Crystal Palace 1 - 2 Arsenal/Frames-v3.zip already exists\n"
     ]
    },
    {
     "name": "stderr",
     "output_type": "stream",
     "text": [
      "Downloading ../data/raw/england_epl/2014-2015/2015-02-21 - 18-00 Crystal Palace 1 - 2 Arsenal/Labels-v3.json...: : 688kiB [00:13, 49.6kiB/s]                         \n"
     ]
    },
    {
     "name": "stdout",
     "output_type": "stream",
     "text": [
      "../data/raw/england_epl/2014-2015/2015-02-21 - 18-00 Swansea 2 - 1 Manchester United/Frames-v3.zip already exists\n"
     ]
    },
    {
     "name": "stderr",
     "output_type": "stream",
     "text": [
      "Downloading ../data/raw/england_epl/2014-2015/2015-02-21 - 18-00 Swansea 2 - 1 Manchester United/Labels-v3.json...: : 614kiB [00:13, 46.8kiB/s]                         \n"
     ]
    }
   ],
   "source": [
    "games = [\n",
    "    'england_epl/2014-2015/2015-02-21 - 18-00 Chelsea 1 - 1 Burnley',\n",
    "    'england_epl/2014-2015/2015-02-21 - 18-00 Crystal Palace 1 - 2 Arsenal',\n",
    "    'england_epl/2014-2015/2015-02-21 - 18-00 Swansea 2 - 1 Manchester United'\n",
    "]\n",
    "\n",
    "for game in games:\n",
    "    soccernet_downloader.downloadGame(\n",
    "        game=game,\n",
    "        files=['Frames-v3.zip', 'Labels-v3.json']\n",
    "    )"
   ]
  },
  {
   "cell_type": "markdown",
   "id": "b104ef2e",
   "metadata": {},
   "source": [
    "### Visualisation"
   ]
  },
  {
   "cell_type": "code",
   "execution_count": 28,
   "id": "dd4bcedc",
   "metadata": {},
   "outputs": [
    {
     "name": "stdout",
     "output_type": "stream",
     "text": [
      "Reading the annotation files\n",
      "  0%|                                                   | 0/400 [00:00<?, ?it/s]../data/raw/england_epl/2014-2015/2015-02-21 - 18-00 Chelsea 1 - 1 Burnley/Labels-v3.json\n",
      "../data/raw/england_epl/2014-2015/2015-02-21 - 18-00 Crystal Palace 1 - 2 Arsenal/Labels-v3.json\n",
      "../data/raw/england_epl/2014-2015/2015-02-21 - 18-00 Swansea 2 - 1 Manchester United/Labels-v3.json\n",
      "100%|██████████████████████████████████████| 400/400 [00:00<00:00, 14795.90it/s]\n",
      "100%|█████████████████████████████████████████████| 3/3 [00:00<00:00, 16.91it/s]\n",
      "100%|███████████████████████████████████████████████████████████████████████████████████████████████████████████████████████████| 89/89 [01:47<00:00,  1.21s/it]\n"
     ]
    }
   ],
   "source": [
    "!python ../scripts/tools/visualise.py --SoccerNet_path '../data/raw' --save_path '../exports/2506 - Preliminary/' --zipped_images"
   ]
  }
 ],
 "metadata": {
  "kernelspec": {
   "display_name": "Python 3",
   "language": "python",
   "name": "python3"
  },
  "language_info": {
   "codemirror_mode": {
    "name": "ipython",
    "version": 3
   },
   "file_extension": ".py",
   "mimetype": "text/x-python",
   "name": "python",
   "nbconvert_exporter": "python",
   "pygments_lexer": "ipython3",
   "version": "3.12.11"
  }
 },
 "nbformat": 4,
 "nbformat_minor": 5
}
